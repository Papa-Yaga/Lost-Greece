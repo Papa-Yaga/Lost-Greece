{
 "cells": [
  {
   "cell_type": "code",
   "execution_count": 1,
   "id": "7abd9a10-41e6-41f3-9f9c-5ad5c2dbc546",
   "metadata": {},
   "outputs": [],
   "source": [
    "import pandas as pd\n",
    "import numpy as np\n",
    "import matplotlib.pyplot as plt\n",
    "import seaborn as sns\n",
    "from datetime import datetime as dt\n",
    "import scipy.stats as st\n",
    "\n",
    "from sklearn.model_selection import train_test_split\n",
    "from sklearn.neighbors import KNeighborsClassifier\n",
    "from sklearn.preprocessing import MinMaxScaler, OneHotEncoder\n",
    "from sklearn.metrics import r2_score, f1_score\n",
    "from sklearn import tree\n",
    "\n",
    "import warnings\n",
    "\n",
    "warnings.filterwarnings(\"ignore\", category=DeprecationWarning)\n",
    "warnings.filterwarnings(\"ignore\", category=FutureWarning)\n",
    "\n",
    "%matplotlib inline"
   ]
  },
  {
   "cell_type": "code",
   "execution_count": 9,
   "id": "c9d4a6d0-04c2-47e5-b650-700709259963",
   "metadata": {},
   "outputs": [
    {
     "data": {
      "text/html": [
       "<div>\n",
       "<style scoped>\n",
       "    .dataframe tbody tr th:only-of-type {\n",
       "        vertical-align: middle;\n",
       "    }\n",
       "\n",
       "    .dataframe tbody tr th {\n",
       "        vertical-align: top;\n",
       "    }\n",
       "\n",
       "    .dataframe thead th {\n",
       "        text-align: right;\n",
       "    }\n",
       "</style>\n",
       "<table border=\"1\" class=\"dataframe\">\n",
       "  <thead>\n",
       "    <tr style=\"text-align: right;\">\n",
       "      <th></th>\n",
       "      <th>Index</th>\n",
       "      <th>category</th>\n",
       "      <th>description</th>\n",
       "      <th>nagari</th>\n",
       "      <th>word</th>\n",
       "    </tr>\n",
       "  </thead>\n",
       "  <tbody>\n",
       "    <tr>\n",
       "      <th>0</th>\n",
       "      <td>0</td>\n",
       "      <td>grass</td>\n",
       "      <td>a grass (Eleusine indica) used for sacrificial...</td>\n",
       "      <td>बल्बज</td>\n",
       "      <td>balbaj</td>\n",
       "    </tr>\n",
       "    <tr>\n",
       "      <th>1</th>\n",
       "      <td>1</td>\n",
       "      <td>grass</td>\n",
       "      <td>the name of a grass</td>\n",
       "      <td>दर्भ</td>\n",
       "      <td>darbh</td>\n",
       "    </tr>\n",
       "    <tr>\n",
       "      <th>2</th>\n",
       "      <td>2</td>\n",
       "      <td>grass</td>\n",
       "      <td>a species of grass (Panicum dactylon)</td>\n",
       "      <td>दूर्वा</td>\n",
       "      <td>durva</td>\n",
       "    </tr>\n",
       "  </tbody>\n",
       "</table>\n",
       "</div>"
      ],
      "text/plain": [
       "   Index category                                        description  nagari  \\\n",
       "0      0    grass  a grass (Eleusine indica) used for sacrificial...   बल्बज   \n",
       "1      1    grass                                the name of a grass    दर्भ   \n",
       "2      2    grass              a species of grass (Panicum dactylon)  दूर्वा   \n",
       "\n",
       "     word  \n",
       "0  balbaj  \n",
       "1   darbh  \n",
       "2   durva  "
      ]
     },
     "execution_count": 9,
     "metadata": {},
     "output_type": "execute_result"
    }
   ],
   "source": [
    "data = pd.read_csv(r\"C:\\Users\\PariahJack\\Documents\\GitHub\\SoloProject\\ancient_language_dataset\\vedic.csv\")\n",
    "data.head(3)"
   ]
  },
  {
   "cell_type": "markdown",
   "id": "bb232ff5-4c35-4659-afc4-27e2beda290b",
   "metadata": {},
   "source": [
    "# Notes:"
   ]
  },
  {
   "cell_type": "markdown",
   "id": "2f80e018-d12f-422d-9e17-9590c751071a",
   "metadata": {},
   "source": [
    "* Decide on Sanskrit or Old Greek. \n",
    "* Find out more about OCR, TensorFlow and Tesseract.\n",
    "* Collect Data."
   ]
  }
 ],
 "metadata": {
  "kernelspec": {
   "display_name": "Python 3 (ipykernel)",
   "language": "python",
   "name": "python3"
  },
  "language_info": {
   "codemirror_mode": {
    "name": "ipython",
    "version": 3
   },
   "file_extension": ".py",
   "mimetype": "text/x-python",
   "name": "python",
   "nbconvert_exporter": "python",
   "pygments_lexer": "ipython3",
   "version": "3.11.7"
  }
 },
 "nbformat": 4,
 "nbformat_minor": 5
}
